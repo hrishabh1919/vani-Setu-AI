{
  "nbformat": 4,
  "nbformat_minor": 0,
  "metadata": {
    "colab": {
      "provenance": [],
      "gpuType": "T4",
      "authorship_tag": "ABX9TyOu5CsK0qPC/QAvTdchF5RO",
      "include_colab_link": true
    },
    "kernelspec": {
      "name": "python3",
      "display_name": "Python 3"
    },
    "language_info": {
      "name": "python"
    },
    "accelerator": "GPU"
  },
  "cells": [
    {
      "cell_type": "markdown",
      "metadata": {
        "id": "view-in-github",
        "colab_type": "text"
      },
      "source": [
        "<a href=\"https://colab.research.google.com/github/hrishabh1919/vani-Setu-AI/blob/main/vaniAI.ipynb\" target=\"_parent\"><img src=\"https://colab.research.google.com/assets/colab-badge.svg\" alt=\"Open In Colab\"/></a>"
      ]
    },
    {
      "cell_type": "code",
      "source": [
        "pip install datasets"
      ],
      "metadata": {
        "id": "uJzApSAN56Rs"
      },
      "execution_count": null,
      "outputs": []
    },
    {
      "cell_type": "code",
      "source": [
        "import torch\n",
        "import transformers\n",
        "from transformers import AutoTokenizer, AutoModelForSequenceClassification\n",
        "from torch.utils.data import DataLoader\n",
        "from sklearn.model_selection import train_test_split\n",
        "from datasets import load_dataset"
      ],
      "metadata": {
        "id": "pDawNg71rZBX"
      },
      "execution_count": null,
      "outputs": []
    },
    {
      "cell_type": "code",
      "source": [
        "class MultilingualNLPModel:\n",
        "    def __init__(self, model_name='xlm-roberta-base', num_labels=5):\n",
        "        print(\"Initializing model...\")\n",
        "        try:\n",
        "            # Load dataset\n",
        "            self.dataset = load_dataset(\"ai4bharat/INCLUDE\")\n",
        "\n",
        "            # Initialize tokenizer\n",
        "            self.tokenizer = AutoTokenizer.from_pretrained(model_name)\n",
        "\n",
        "            # Initialize model\n",
        "            self.model = AutoModelForSequenceClassification.from_pretrained(\n",
        "                model_name,\n",
        "                num_labels=num_labels\n",
        "            )\n",
        "\n",
        "            # Set device\n",
        "            self.device = torch.device('cuda' if torch.cuda.is_available() else 'cpu')\n",
        "            print(f\"Using device: {self.device}\")\n",
        "            self.model.to(self.device)\n",
        "\n",
        "        except Exception as e:\n",
        "            print(f\"Error during initialization: {e}\")\n",
        "            raise"
      ],
      "metadata": {
        "id": "oCw6vQHHrt8C"
      },
      "execution_count": null,
      "outputs": []
    },
    {
      "cell_type": "code",
      "source": [
        "\n",
        "def preprocess_data(self, text_column='text', label_column='label'):\n",
        "        print(\"Preprocessing data...\")\n",
        "        try:\n",
        "            def tokenize_function(examples):\n",
        "                return self.tokenizer(\n",
        "                    examples[text_column],\n",
        "                    padding=True,\n",
        "                    truncation=True,\n",
        "                    max_length=512\n",
        "                )\n",
        "\n",
        "            tokenized_datasets = self.dataset.map(\n",
        "                tokenize_function,\n",
        "                batched=True\n",
        "            )\n",
        "\n",
        "            tokenized_datasets.set_format(\n",
        "                'torch',\n",
        "                columns=['input_ids', 'attention_mask', label_column]\n",
        "            )\n",
        "\n",
        "            return tokenized_datasets\n",
        "\n",
        "        except Exception as e:\n",
        "            print(f\"Error in preprocessing: {e}\")\n",
        "            raise"
      ],
      "metadata": {
        "id": "MSWgc9susMUN"
      },
      "execution_count": null,
      "outputs": []
    },
    {
      "cell_type": "code",
      "source": [
        "def create_dataloaders(self, batch_size=16):\n",
        "        print(\"Creating dataloaders...\")\n",
        "        try:\n",
        "            tokenized_datasets = self.preprocess_data()\n",
        "\n",
        "            train_dataset = tokenized_datasets['train']\n",
        "            val_dataset = tokenized_datasets['validation']\n",
        "\n",
        "            train_loader = DataLoader(\n",
        "                train_dataset,\n",
        "                batch_size=batch_size,\n",
        "                shuffle=True\n",
        "            )\n",
        "\n",
        "            val_loader = DataLoader(\n",
        "                val_dataset,\n",
        "                batch_size=batch_size\n",
        "            )\n",
        "\n",
        "            return train_loader, val_loader\n",
        "\n",
        "        except Exception as e:\n",
        "            print(f\"Error creating dataloaders: {e}\")\n",
        "            raise"
      ],
      "metadata": {
        "id": "QeVi4pNNsT_x"
      },
      "execution_count": null,
      "outputs": []
    },
    {
      "cell_type": "code",
      "source": [
        "def train(self, epochs=3, learning_rate=2e-5):\n",
        "        # Prepare data loaders\n",
        "        train_loader, val_loader = self.create_dataloaders()\n",
        "\n",
        "        # Optimizer and loss\n",
        "        optimizer = torch.optim.AdamW(\n",
        "            self.model.parameters(),\n",
        "            lr=learning_rate\n",
        "        )\n",
        "\n",
        "        # Training loop\n",
        "        for epoch in range(epochs):\n",
        "            self.model.train()\n",
        "            total_loss = 0\n",
        "\n",
        "            for batch in train_loader:\n",
        "                optimizer.zero_grad()\n",
        "\n",
        "                # Move batch to device\n",
        "                input_ids = batch['input_ids'].to(self.device)\n",
        "                attention_mask = batch['attention_mask'].to(self.device)\n",
        "                labels = batch['label'].to(self.device)\n",
        "\n",
        "                # Forward pass\n",
        "                outputs = self.model(\n",
        "                    input_ids,\n",
        "                    attention_mask=attention_mask,\n",
        "                    labels=labels\n",
        "                )\n",
        "\n",
        "                loss = outputs.loss\n",
        "                total_loss += loss.item()\n",
        "\n",
        "                # Backward pass\n",
        "                loss.backward()\n",
        "                optimizer.step()\n",
        "\n",
        "            # Validation\n",
        "            self.model.eval()\n",
        "            val_loss = 0\n",
        "            with torch.no_grad():\n",
        "                for batch in val_loader:\n",
        "                    input_ids = batch['input_ids'].to(self.device)\n",
        "                    attention_mask = batch['attention_mask'].to(self.device)\n",
        "                    labels = batch['label'].to(self.device)\n",
        "\n",
        "                    outputs = self.model(\n",
        "                        input_ids,\n",
        "                        attention_mask=attention_mask,\n",
        "                        labels=labels\n",
        "                    )\n",
        "                    val_loss += outputs.loss.item()\n",
        "\n",
        "            print(f\"Epoch {epoch+1}: Train Loss = {total_loss/len(train_loader)}, \"\n",
        "                  f\"Val Loss = {val_loss/len(val_loader)}\")"
      ],
      "metadata": {
        "id": "jNbWggtQsbL9"
      },
      "execution_count": null,
      "outputs": []
    },
    {
      "cell_type": "code",
      "source": [
        "def train_model(self, epochs=3, learning_rate=2e-5):\n",
        "        print(\"Starting training...\")\n",
        "        try:\n",
        "            train_loader, val_loader = self.create_dataloaders()\n",
        "\n",
        "            optimizer = torch.optim.AdamW(\n",
        "                self.model.parameters(),\n",
        "                lr=learning_rate\n",
        "            )\n",
        "\n",
        "            for epoch in range(epochs):\n",
        "                print(f\"\\nEpoch {epoch+1}/{epochs}\")\n",
        "\n",
        "                # Training phase\n",
        "                self.model.train()\n",
        "                total_train_loss = 0\n",
        "\n",
        "                for batch_idx, batch in enumerate(train_loader):\n",
        "                    optimizer.zero_grad()\n",
        "\n",
        "                    input_ids = batch['input_ids'].to(self.device)\n",
        "                    attention_mask = batch['attention_mask'].to(self.device)\n",
        "                    labels = batch['label'].to(self.device)\n",
        "\n",
        "                    outputs = self.model(\n",
        "                        input_ids,\n",
        "                        attention_mask=attention_mask,\n",
        "                        labels=labels\n",
        "                    )\n",
        "\n",
        "                    loss = outputs.loss\n",
        "                    total_train_loss += loss.item()\n",
        "\n",
        "                    loss.backward()\n",
        "                    optimizer.step()\n",
        "\n",
        "                    if (batch_idx + 1) % 10 == 0:\n",
        "                        print(f\"Batch {batch_idx + 1}/{len(train_loader)}, \"\n",
        "                              f\"Loss: {loss.item():.4f}\")\n",
        "\n",
        "                avg_train_loss = total_train_loss / len(train_loader)\n",
        "\n",
        "                # Validation phase\n",
        "                self.model.eval()\n",
        "                total_val_loss = 0\n",
        "\n",
        "                with torch.no_grad():\n",
        "                    for batch in val_loader:\n",
        "                        input_ids = batch['input_ids'].to(self.device)\n",
        "                        attention_mask = batch['attention_mask'].to(self.device)\n",
        "                        labels = batch['label'].to(self.device)\n",
        "\n",
        "                        outputs = self.model(\n",
        "                            input_ids,\n",
        "                            attention_mask=attention_mask,\n",
        "                            labels=labels\n",
        "                        )\n",
        "                        total_val_loss += outputs.loss.item()\n",
        "\n",
        "                avg_val_loss = total_val_loss / len(val_loader)\n",
        "                print(f\"Epoch {epoch+1} Summary:\")\n",
        "                print(f\"Average Training Loss: {avg_train_loss:.4f}\")\n",
        "                print(f\"Average Validation Loss: {avg_val_loss:.4f}\")\n",
        "\n",
        "        except Exception as e:\n",
        "            print(f\"Error during training: {e}\")\n",
        "            raise"
      ],
      "metadata": {
        "id": "oT-s8dxRsfNh"
      },
      "execution_count": null,
      "outputs": []
    },
    {
      "cell_type": "code",
      "execution_count": null,
      "metadata": {
        "id": "tsUKLCUGmab0"
      },
      "outputs": [],
      "source": [
        "def predict(self, text):\n",
        "        print(\"Making prediction...\")\n",
        "        try:\n",
        "            inputs = self.tokenizer(\n",
        "                text,\n",
        "                return_tensors='pt',\n",
        "                padding=True,\n",
        "                truncation=True,\n",
        "                max_length=512\n",
        "            ).to(self.device)\n",
        "\n",
        "            self.model.eval()\n",
        "            with torch.no_grad():\n",
        "                outputs = self.model(**inputs)\n",
        "                predictions = torch.softmax(outputs.logits, dim=1)\n",
        "\n",
        "            return predictions\n",
        "\n",
        "        except Exception as e:\n",
        "            print(f\"Error during prediction: {e}\")\n",
        "            raise"
      ]
    },
    {
      "cell_type": "code",
      "source": [
        "def main():\n",
        "        try:\n",
        "          print(\"Creating model instance...\")\n",
        "          model = MultilingualNLPModel()\n",
        "\n",
        "          print(\"Starting training process...\")\n",
        "          model.train_model(epochs=3)\n",
        "\n",
        "          print(\"Making a test prediction...\")\n",
        "          sample_text = \"Example sign language text\"\n",
        "          predictions = model.predict(sample_text)\n",
        "          print(f\"Predictions: {predictions}\")\n",
        "\n",
        "        except Exception as e:\n",
        "          print(f\"Error in main execution: {e}\")\n",
        "          raise\n",
        "\n",
        "if __name__ == \"__main__\":\n",
        "      main()"
      ],
      "metadata": {
        "colab": {
          "base_uri": "https://localhost:8080/",
          "height": 439
        },
        "id": "xFDvb-SsucR5",
        "outputId": "f5946ccc-bff3-437e-94a0-a0fa901e7cfe"
      },
      "execution_count": null,
      "outputs": [
        {
          "output_type": "stream",
          "name": "stdout",
          "text": [
            "Creating model instance...\n",
            "Initializing model...\n"
          ]
        },
        {
          "output_type": "stream",
          "name": "stderr",
          "text": [
            "Some weights of XLMRobertaForSequenceClassification were not initialized from the model checkpoint at xlm-roberta-base and are newly initialized: ['classifier.dense.bias', 'classifier.dense.weight', 'classifier.out_proj.bias', 'classifier.out_proj.weight']\n",
            "You should probably TRAIN this model on a down-stream task to be able to use it for predictions and inference.\n"
          ]
        },
        {
          "output_type": "stream",
          "name": "stdout",
          "text": [
            "Using device: cuda\n",
            "Starting training process...\n",
            "Error in main execution: 'MultilingualNLPModel' object has no attribute 'train_model'\n"
          ]
        },
        {
          "output_type": "error",
          "ename": "AttributeError",
          "evalue": "'MultilingualNLPModel' object has no attribute 'train_model'",
          "traceback": [
            "\u001b[0;31m---------------------------------------------------------------------------\u001b[0m",
            "\u001b[0;31mAttributeError\u001b[0m                            Traceback (most recent call last)",
            "\u001b[0;32m<ipython-input-62-787996f49e37>\u001b[0m in \u001b[0;36m<cell line: 0>\u001b[0;34m()\u001b[0m\n\u001b[1;32m     17\u001b[0m \u001b[0;34m\u001b[0m\u001b[0m\n\u001b[1;32m     18\u001b[0m \u001b[0;32mif\u001b[0m \u001b[0m__name__\u001b[0m \u001b[0;34m==\u001b[0m \u001b[0;34m\"__main__\"\u001b[0m\u001b[0;34m:\u001b[0m\u001b[0;34m\u001b[0m\u001b[0;34m\u001b[0m\u001b[0m\n\u001b[0;32m---> 19\u001b[0;31m       \u001b[0mmain\u001b[0m\u001b[0;34m(\u001b[0m\u001b[0;34m)\u001b[0m\u001b[0;34m\u001b[0m\u001b[0;34m\u001b[0m\u001b[0m\n\u001b[0m",
            "\u001b[0;32m<ipython-input-62-787996f49e37>\u001b[0m in \u001b[0;36mmain\u001b[0;34m()\u001b[0m\n\u001b[1;32m      5\u001b[0m \u001b[0;34m\u001b[0m\u001b[0m\n\u001b[1;32m      6\u001b[0m           \u001b[0mprint\u001b[0m\u001b[0;34m(\u001b[0m\u001b[0;34m\"Starting training process...\"\u001b[0m\u001b[0;34m)\u001b[0m\u001b[0;34m\u001b[0m\u001b[0;34m\u001b[0m\u001b[0m\n\u001b[0;32m----> 7\u001b[0;31m           \u001b[0mmodel\u001b[0m\u001b[0;34m.\u001b[0m\u001b[0mtrain_model\u001b[0m\u001b[0;34m(\u001b[0m\u001b[0mepochs\u001b[0m\u001b[0;34m=\u001b[0m\u001b[0;36m3\u001b[0m\u001b[0;34m)\u001b[0m\u001b[0;34m\u001b[0m\u001b[0;34m\u001b[0m\u001b[0m\n\u001b[0m\u001b[1;32m      8\u001b[0m \u001b[0;34m\u001b[0m\u001b[0m\n\u001b[1;32m      9\u001b[0m           \u001b[0mprint\u001b[0m\u001b[0;34m(\u001b[0m\u001b[0;34m\"Making a test prediction...\"\u001b[0m\u001b[0;34m)\u001b[0m\u001b[0;34m\u001b[0m\u001b[0;34m\u001b[0m\u001b[0m\n",
            "\u001b[0;31mAttributeError\u001b[0m: 'MultilingualNLPModel' object has no attribute 'train_model'"
          ]
        }
      ]
    },
    {
      "cell_type": "code",
      "source": [],
      "metadata": {
        "id": "qW6pJ0TJ0azn"
      },
      "execution_count": null,
      "outputs": []
    }
  ]
}